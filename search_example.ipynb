{
 "cells": [
  {
   "cell_type": "code",
   "execution_count": 5,
   "metadata": {
    "collapsed": true
   },
   "outputs": [],
   "source": [
    "import os.path\n",
    "import csv\n",
    "import sqlite3\n",
    "import pandas as pd"
   ]
  },
  {
   "cell_type": "code",
   "execution_count": 52,
   "metadata": {
    "collapsed": true
   },
   "outputs": [],
   "source": [
    "def pandify_from_txt():\n",
    "    df = pd.read_table('/Users/zack/Desktop/MaintFeeEvents.txt', header = None, sep=' ',names = ['0','1', '2','3','4','5','6'] )\n",
    "    return df"
   ]
  },
  {
   "cell_type": "code",
   "execution_count": 53,
   "metadata": {},
   "outputs": [
    {
     "name": "stderr",
     "output_type": "stream",
     "text": [
      "/Users/zack/anaconda3/lib/python3.6/site-packages/IPython/core/interactiveshell.py:2802: DtypeWarning: Columns (0) have mixed types. Specify dtype option on import or set low_memory=False.\n",
      "  if self.run_code(code, result):\n"
     ]
    }
   ],
   "source": [
    "dftxt = pandify_from_txt()\n",
    "dftxt = dftxt.reset_index()\n",
    "dftxt.columns =  ['Patent_Number','US_Application_Number', 'Small_Entity','US_Application_Filing_Date','US_Grant_Issue_Date','Maintenance_Fee_Event_Entry_Date','Maintenance_Fee_Event_Code', 'drop'] "
   ]
  },
  {
   "cell_type": "code",
   "execution_count": 54,
   "metadata": {},
   "outputs": [],
   "source": [
    "dftxt = dftxt.drop('drop',axis=1) "
   ]
  },
  {
   "cell_type": "code",
   "execution_count": 111,
   "metadata": {},
   "outputs": [
    {
     "data": {
      "text/plain": [
       "(15984775, 7)"
      ]
     },
     "execution_count": 111,
     "metadata": {},
     "output_type": "execute_result"
    }
   ],
   "source": [
    "dftxt.shape"
   ]
  },
  {
   "cell_type": "code",
   "execution_count": 115,
   "metadata": {},
   "outputs": [
    {
     "name": "stdout",
     "output_type": "stream",
     "text": [
      "CPU times: user 1.43 s, sys: 38 ms, total: 1.47 s\n",
      "Wall time: 1.47 s\n"
     ]
    }
   ],
   "source": [
    "%time search_one = dftxt[(dftxt['US_Grant_Issue_Date'] > 20001231) & (dftxt['Maintenance_Fee_Event_Code'] == 'EXP.')] "
   ]
  },
  {
   "cell_type": "code",
   "execution_count": 116,
   "metadata": {},
   "outputs": [
    {
     "data": {
      "text/plain": [
       "(789593, 7)"
      ]
     },
     "execution_count": 116,
     "metadata": {},
     "output_type": "execute_result"
    }
   ],
   "source": [
    "search_one.shape"
   ]
  },
  {
   "cell_type": "code",
   "execution_count": 117,
   "metadata": {},
   "outputs": [
    {
     "data": {
      "text/html": [
       "<div>\n",
       "<style>\n",
       "    .dataframe thead tr:only-child th {\n",
       "        text-align: right;\n",
       "    }\n",
       "\n",
       "    .dataframe thead th {\n",
       "        text-align: left;\n",
       "    }\n",
       "\n",
       "    .dataframe tbody tr th {\n",
       "        vertical-align: top;\n",
       "    }\n",
       "</style>\n",
       "<table border=\"1\" class=\"dataframe\">\n",
       "  <thead>\n",
       "    <tr style=\"text-align: right;\">\n",
       "      <th></th>\n",
       "      <th>Patent_Number</th>\n",
       "      <th>US_Application_Number</th>\n",
       "      <th>Small_Entity</th>\n",
       "      <th>US_Application_Filing_Date</th>\n",
       "      <th>US_Grant_Issue_Date</th>\n",
       "      <th>Maintenance_Fee_Event_Entry_Date</th>\n",
       "      <th>Maintenance_Fee_Event_Code</th>\n",
       "    </tr>\n",
       "  </thead>\n",
       "  <tbody>\n",
       "    <tr>\n",
       "      <th>8229444</th>\n",
       "      <td>6167569</td>\n",
       "      <td>9426589</td>\n",
       "      <td>Y</td>\n",
       "      <td>19991025</td>\n",
       "      <td>20010102</td>\n",
       "      <td>20090102</td>\n",
       "      <td>EXP.</td>\n",
       "    </tr>\n",
       "    <tr>\n",
       "      <th>8229447</th>\n",
       "      <td>6167570</td>\n",
       "      <td>9374529</td>\n",
       "      <td>Y</td>\n",
       "      <td>19990816</td>\n",
       "      <td>20010102</td>\n",
       "      <td>20050103</td>\n",
       "      <td>EXP.</td>\n",
       "    </tr>\n",
       "    <tr>\n",
       "      <th>8229449</th>\n",
       "      <td>6167571</td>\n",
       "      <td>9349456</td>\n",
       "      <td>Y</td>\n",
       "      <td>19990708</td>\n",
       "      <td>20010102</td>\n",
       "      <td>20130102</td>\n",
       "      <td>EXP.</td>\n",
       "    </tr>\n",
       "    <tr>\n",
       "      <th>8229453</th>\n",
       "      <td>6167572</td>\n",
       "      <td>9428168</td>\n",
       "      <td>Y</td>\n",
       "      <td>19991027</td>\n",
       "      <td>20010102</td>\n",
       "      <td>20090102</td>\n",
       "      <td>EXP.</td>\n",
       "    </tr>\n",
       "    <tr>\n",
       "      <th>8229461</th>\n",
       "      <td>6167574</td>\n",
       "      <td>9415451</td>\n",
       "      <td>Y</td>\n",
       "      <td>19991008</td>\n",
       "      <td>20010102</td>\n",
       "      <td>20130102</td>\n",
       "      <td>EXP.</td>\n",
       "    </tr>\n",
       "  </tbody>\n",
       "</table>\n",
       "</div>"
      ],
      "text/plain": [
       "        Patent_Number  US_Application_Number Small_Entity  \\\n",
       "8229444       6167569                9426589            Y   \n",
       "8229447       6167570                9374529            Y   \n",
       "8229449       6167571                9349456            Y   \n",
       "8229453       6167572                9428168            Y   \n",
       "8229461       6167574                9415451            Y   \n",
       "\n",
       "         US_Application_Filing_Date  US_Grant_Issue_Date  \\\n",
       "8229444                    19991025             20010102   \n",
       "8229447                    19990816             20010102   \n",
       "8229449                    19990708             20010102   \n",
       "8229453                    19991027             20010102   \n",
       "8229461                    19991008             20010102   \n",
       "\n",
       "         Maintenance_Fee_Event_Entry_Date Maintenance_Fee_Event_Code  \n",
       "8229444                          20090102                       EXP.  \n",
       "8229447                          20050103                       EXP.  \n",
       "8229449                          20130102                       EXP.  \n",
       "8229453                          20090102                       EXP.  \n",
       "8229461                          20130102                       EXP.  "
      ]
     },
     "execution_count": 117,
     "metadata": {},
     "output_type": "execute_result"
    }
   ],
   "source": [
    "search_one.head()"
   ]
  }
 ],
 "metadata": {
  "kernelspec": {
   "display_name": "Python 3",
   "language": "python",
   "name": "python3"
  },
  "language_info": {
   "codemirror_mode": {
    "name": "ipython",
    "version": 3
   },
   "file_extension": ".py",
   "mimetype": "text/x-python",
   "name": "python",
   "nbconvert_exporter": "python",
   "pygments_lexer": "ipython3",
   "version": "3.6.3"
  }
 },
 "nbformat": 4,
 "nbformat_minor": 2
}
