{
 "cells": [
  {
   "cell_type": "code",
   "execution_count": 5,
   "metadata": {
    "collapsed": true
   },
   "outputs": [],
   "source": [
    "import os.path\n",
    "import csv\n",
    "import sqlite3\n",
    "import pandas as pd"
   ]
  },
  {
   "cell_type": "code",
   "execution_count": 52,
   "metadata": {
    "collapsed": true
   },
   "outputs": [],
   "source": [
    "def pandify_from_txt():\n",
    "    df = pd.read_table('/Users/zack/Desktop/MaintFeeEvents.txt', header = None, sep=' ',names = ['0','1', '2','3','4','5','6'] )\n",
    "    return df"
   ]
  },
  {
   "cell_type": "code",
   "execution_count": 53,
   "metadata": {},
   "outputs": [
    {
     "name": "stderr",
     "output_type": "stream",
     "text": [
      "/Users/zack/anaconda3/lib/python3.6/site-packages/IPython/core/interactiveshell.py:2802: DtypeWarning: Columns (0) have mixed types. Specify dtype option on import or set low_memory=False.\n",
      "  if self.run_code(code, result):\n"
     ]
    }
   ],
   "source": [
    "dftxt = pandify_from_txt()\n",
    "dftxt = dftxt.reset_index()\n",
    "dftxt.columns =  ['Patent_Number','US_Application_Number', 'Small_Entity','US_Application_Filing_Date','US_Grant_Issue_Date','Maintenance_Fee_Event_Entry_Date','Maintenance_Fee_Event_Code', 'drop'] "
   ]
  },
  {
   "cell_type": "code",
   "execution_count": 54,
   "metadata": {},
   "outputs": [],
   "source": [
    "dftxt = dftxt.drop('drop',axis=1)"
   ]
  },
  {
   "cell_type": "code",
   "execution_count": 55,
   "metadata": {},
   "outputs": [],
   "source": [
    "dftxt_2 = dftxt.loc[dftxt['US_Application_Filing_Date'] >20001231 ]\n"
   ]
  },
  {
   "cell_type": "code",
   "execution_count": 60,
   "metadata": {},
   "outputs": [
    {
     "data": {
      "text/plain": [
       "(6005907, 7)"
      ]
     },
     "execution_count": 60,
     "metadata": {},
     "output_type": "execute_result"
    }
   ],
   "source": [
    "dftxt_2.shape"
   ]
  },
  {
   "cell_type": "code",
   "execution_count": 73,
   "metadata": {},
   "outputs": [
    {
     "name": "stdout",
     "output_type": "stream",
     "text": [
      "610 ms ± 26.6 ms per loop (mean ± std. dev. of 7 runs, 1 loop each)\n"
     ]
    }
   ],
   "source": [
    "%timeit Search_one = dftxt_2.loc[(dftxt_2['Maintenance_Fee_Event_Code'] == 'EXP.') & (dftxt_2['US_Grant_Issue_Date'] > 20001231 )]"
   ]
  },
  {
   "cell_type": "code",
   "execution_count": 76,
   "metadata": {},
   "outputs": [
    {
     "data": {
      "text/plain": [
       "(7792, 7)"
      ]
     },
     "execution_count": 76,
     "metadata": {},
     "output_type": "execute_result"
    }
   ],
   "source": [
    "Search_one.shape"
   ]
  },
  {
   "cell_type": "code",
   "execution_count": 77,
   "metadata": {},
   "outputs": [
    {
     "data": {
      "text/html": [
       "<div>\n",
       "<style>\n",
       "    .dataframe thead tr:only-child th {\n",
       "        text-align: right;\n",
       "    }\n",
       "\n",
       "    .dataframe thead th {\n",
       "        text-align: left;\n",
       "    }\n",
       "\n",
       "    .dataframe tbody tr th {\n",
       "        vertical-align: top;\n",
       "    }\n",
       "</style>\n",
       "<table border=\"1\" class=\"dataframe\">\n",
       "  <thead>\n",
       "    <tr style=\"text-align: right;\">\n",
       "      <th></th>\n",
       "      <th>Patent_Number</th>\n",
       "      <th>US_Application_Number</th>\n",
       "      <th>Small_Entity</th>\n",
       "      <th>US_Application_Filing_Date</th>\n",
       "      <th>US_Grant_Issue_Date</th>\n",
       "      <th>Maintenance_Fee_Event_Entry_Date</th>\n",
       "      <th>Maintenance_Fee_Event_Code</th>\n",
       "    </tr>\n",
       "  </thead>\n",
       "  <tbody>\n",
       "    <tr>\n",
       "      <th>15392443</th>\n",
       "      <td>8590062</td>\n",
       "      <td>12583524</td>\n",
       "      <td>Y</td>\n",
       "      <td>20090822</td>\n",
       "      <td>20131126</td>\n",
       "      <td>20171225</td>\n",
       "      <td>EXP.</td>\n",
       "    </tr>\n",
       "    <tr>\n",
       "      <th>15392458</th>\n",
       "      <td>8590070</td>\n",
       "      <td>13641454</td>\n",
       "      <td>Y</td>\n",
       "      <td>20121015</td>\n",
       "      <td>20131126</td>\n",
       "      <td>20171225</td>\n",
       "      <td>EXP.</td>\n",
       "    </tr>\n",
       "    <tr>\n",
       "      <th>15392466</th>\n",
       "      <td>8590074</td>\n",
       "      <td>12484345</td>\n",
       "      <td>N</td>\n",
       "      <td>20090615</td>\n",
       "      <td>20131126</td>\n",
       "      <td>20171225</td>\n",
       "      <td>EXP.</td>\n",
       "    </tr>\n",
       "    <tr>\n",
       "      <th>15392476</th>\n",
       "      <td>8590079</td>\n",
       "      <td>12227495</td>\n",
       "      <td>N</td>\n",
       "      <td>20090116</td>\n",
       "      <td>20131126</td>\n",
       "      <td>20171225</td>\n",
       "      <td>EXP.</td>\n",
       "    </tr>\n",
       "    <tr>\n",
       "      <th>15392479</th>\n",
       "      <td>8590080</td>\n",
       "      <td>13691979</td>\n",
       "      <td>M</td>\n",
       "      <td>20121203</td>\n",
       "      <td>20131126</td>\n",
       "      <td>20171225</td>\n",
       "      <td>EXP.</td>\n",
       "    </tr>\n",
       "  </tbody>\n",
       "</table>\n",
       "</div>"
      ],
      "text/plain": [
       "         Patent_Number  US_Application_Number Small_Entity  \\\n",
       "15392443       8590062               12583524            Y   \n",
       "15392458       8590070               13641454            Y   \n",
       "15392466       8590074               12484345            N   \n",
       "15392476       8590079               12227495            N   \n",
       "15392479       8590080               13691979            M   \n",
       "\n",
       "          US_Application_Filing_Date  US_Grant_Issue_Date  \\\n",
       "15392443                    20090822             20131126   \n",
       "15392458                    20121015             20131126   \n",
       "15392466                    20090615             20131126   \n",
       "15392476                    20090116             20131126   \n",
       "15392479                    20121203             20131126   \n",
       "\n",
       "          Maintenance_Fee_Event_Entry_Date Maintenance_Fee_Event_Code  \n",
       "15392443                          20171225                       EXP.  \n",
       "15392458                          20171225                       EXP.  \n",
       "15392466                          20171225                       EXP.  \n",
       "15392476                          20171225                       EXP.  \n",
       "15392479                          20171225                       EXP.  "
      ]
     },
     "execution_count": 77,
     "metadata": {},
     "output_type": "execute_result"
    }
   ],
   "source": [
    "Search_one.head()"
   ]
  }
 ],
 "metadata": {
  "kernelspec": {
   "display_name": "Python 3",
   "language": "python",
   "name": "python3"
  },
  "language_info": {
   "codemirror_mode": {
    "name": "ipython",
    "version": 3
   },
   "file_extension": ".py",
   "mimetype": "text/x-python",
   "name": "python",
   "nbconvert_exporter": "python",
   "pygments_lexer": "ipython3",
   "version": "3.6.3"
  }
 },
 "nbformat": 4,
 "nbformat_minor": 2
}
